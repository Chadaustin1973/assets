{
  "nbformat": 4,
  "nbformat_minor": 0,
  "metadata": {
    "colab": {
      "provenance": [],
      "authorship_tag": "ABX9TyNibZykj9LWt35Enkgfd1J4",
      "include_colab_link": true
    },
    "kernelspec": {
      "name": "python3",
      "display_name": "Python 3"
    },
    "language_info": {
      "name": "python"
    }
  },
  "cells": [
    {
      "cell_type": "markdown",
      "metadata": {
        "id": "view-in-github",
        "colab_type": "text"
      },
      "source": [
        "<a href=\"https://colab.research.google.com/github/Chadaustin1973/assets/blob/master/Austin%20behavioral%20Test%20for%20Leo%20.ipynb\" target=\"_parent\"><img src=\"https://colab.research.google.com/assets/colab-badge.svg\" alt=\"Open In Colab\"/></a>"
      ]
    },
    {
      "cell_type": "code",
      "execution_count": 7,
      "metadata": {
        "colab": {
          "base_uri": "https://localhost:8080/",
          "height": 124
        },
        "id": "7uhfwPSY06Ye",
        "outputId": "1f004451-38f2-464c-f833-63da0e87e8b7"
      },
      "outputs": [
        {
          "output_type": "error",
          "ename": "SyntaxError",
          "evalue": "invalid syntax (<ipython-input-7-95b6b7e2ae71>, line 1)",
          "traceback": [
            "\u001b[0;36m  File \u001b[0;32m\"<ipython-input-7-95b6b7e2ae71>\"\u001b[0;36m, line \u001b[0;32m1\u001b[0m\n\u001b[0;31m    ```python\u001b[0m\n\u001b[0m    ^\u001b[0m\n\u001b[0;31mSyntaxError\u001b[0m\u001b[0;31m:\u001b[0m invalid syntax\n"
          ]
        }
      ],
      "source": [
        "\n",
        "```python\n",
        "def analyze_text(text, context=\"\"):\n",
        "    assessment = {}\n",
        "    text_lower = text.lower()\n",
        "\n",
        "    # Clarity\n",
        "    if len(text.split()) < 3:\n",
        "        assessment['clarity'] = \"Low\"\n",
        "    else:\n",
        "        assessment['clarity'] = \"Moderate\"\n",
        "\n",
        "    # Emotion\n",
        "    if \"scared\" in text_lower or \"afraid\" in text_lower:\n",
        "        assessment['emotion'] = \"Apprehensive\"\n",
        "    elif \"angry\" in text_lower or \"frustrated\" in text_lower:\n",
        "        assessment['emotion'] = \"Negative\"\n",
        "    else:\n",
        "        assessment['emotion'] = \"Neutral\"\n",
        "\n",
        "    # Responsiveness\n",
        "    if \"?\" in text:\n",
        "        assessment['responsiveness'] = \"Direct\"\n",
        "    elif \"i don't know\" in text_lower:\n",
        "        assessment['responsiveness'] = \"Non-committal\"\n",
        "    else:\n",
        "        assessment['responsiveness'] = \"Provides info\"\n",
        "\n",
        "    # Key Info (Name)\n",
        "    name_keywords = [\"my name is\", \"i am\", \"it's\"]\n",
        "    if any(keyword in text_lower for keyword in name_keywords):\n",
        "        assessment['key_info_name'] = \"Provided\"\n",
        "\n",
        "    # Key Info (Situation - Neutral)\n",
        "    if context == \"initial_neutral\" and (\"happening\" in text_lower or \"help\" in text_lower):\n",
        "        assessment['key_info_situation'] = \"Mentioned\"\n",
        "\n",
        "    # Key Info (Reason - Cautious)\n",
        "    if context == \"initial_cautious\" and (\"led to\" in text_lower or \"because\" in text_lower):\n",
        "        assessment['key_info_reason'] = \"Provided\"\n",
        "\n",
        "    return assessment\n",
        "\n",
        "def generate_report(assessment):\n",
        "    report = \"**Assessment:**\\n\"\n",
        "    for key, value in assessment.items():\n",
        "        report += f\"- {key.replace('_', ' ').title()}: {value}\\n\"\n",
        "    return report\n",
        "\n",
        "text_input = \"I'm feeling really worried about what's going on.\"\n",
        "context = \"unknown\"\n",
        "analysis_result = analyze_text(text_input, context)\n",
        "report = generate_report(analysis_result)\n",
        "print(report)\n",
        "\n",
        "text_input_2 = \"My name is Sarah. He took my keys.\"\n",
        "context_2 = \"initial_neutral\"\n",
        "analysis_result_2 = analyze_text(text_input_2, context_2)\n",
        "report_2 = generate_report(analysis_result_2)\n",
        "print(report_2)\n",
        "```"
      ]
    }
  ]
}